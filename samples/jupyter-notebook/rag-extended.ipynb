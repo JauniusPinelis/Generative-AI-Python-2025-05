{
 "cells": [
  {
   "cell_type": "code",
   "execution_count": null,
   "id": "7b0b7a6b",
   "metadata": {},
   "outputs": [],
   "source": [
    "%pip install -vvv langchain langchain-openai langchain_chroma langchain_community langchainhub beautifulsoup4 rich pypdf"
   ]
  },
  {
   "cell_type": "code",
   "execution_count": null,
   "id": "d60b863d",
   "metadata": {},
   "outputs": [],
   "source": [
    "import os\n",
    "\n",
    "from dotenv import load_dotenv\n",
    "\n",
    "load_dotenv()  # take environment variables\n",
    "\n",
    "token = os.getenv(\"SECRET\")  # Replace with your actual token\n",
    "model = \"gpt-4.1-nano\"\n",
    "\n",
    "from langchain_openai import ChatOpenAI\n",
    "\n",
    "llm = ChatOpenAI(model=model, api_key=token)"
   ]
  },
  {
   "cell_type": "code",
   "execution_count": null,
   "id": "637f932d",
   "metadata": {},
   "outputs": [],
   "source": [
    "import bs4\n",
    "import os\n",
    "from langchain import hub\n",
    "from langchain_chroma import Chroma\n",
    "from langchain_community.document_loaders import PyPDFLoader, WebBaseLoader\n",
    "from langchain_core.output_parsers import StrOutputParser\n",
    "from langchain_core.runnables import RunnablePassthrough\n",
    "from langchain_openai import OpenAIEmbeddings\n",
    "from langchain_text_splitters import RecursiveCharacterTextSplitter\n",
    "from rich import print"
   ]
  },
  {
   "cell_type": "code",
   "execution_count": null,
   "id": "df8c49e3",
   "metadata": {},
   "outputs": [],
   "source": [
    "# Load, chunk and index the contents of the PDF document.\n",
    "# Define the path to the PDF file in the same folder\n",
    "pdf_path = os.path.join(os.path.dirname(os.path.abspath(\"__file__\")), \"Birzai.pdf\")\n",
    "\n",
    "# Use PyPDFLoader to load the PDF document\n",
    "loader = PyPDFLoader(pdf_path)\n",
    "docs = loader.load()\n",
    "\n",
    "print(docs)\n",
    "\n",
    "\n",
    "# Print some information about the loaded document\n",
    "print(f\"Loaded {len(docs)} pages from the PDF document\")\n",
    "\n",
    "# Split the document into chunks for processing\n",
    "text_splitter = RecursiveCharacterTextSplitter(\n",
    "    chunk_size=12000, \n",
    "    chunk_overlap=50  # Increased overlap for better context preservation\n",
    ")\n",
    "splits = text_splitter.split_documents(docs)\n",
    "\n",
    "print(f\"Document split into {len(splits)} chunks\")\n",
    "print(splits)\n",
    "\n",
    "# Create vector store from the document chunks\n",
    "vectorstore = Chroma.from_documents(\n",
    "    documents=splits, \n",
    "    embedding=OpenAIEmbeddings(\n",
    "        model=\"text-embedding-3-small\",\n",
    "        api_key=token,\n",
    "    )\n",
    ")"
   ]
  },
  {
   "cell_type": "code",
   "execution_count": null,
   "id": "9b39d273",
   "metadata": {},
   "outputs": [],
   "source": [
    "# Retrieve and generate using the relevant snippets of the PDF document.\n",
    "# Configure the retriever to return a specific number of documents\n",
    "retriever = vectorstore.as_retriever(\n",
    "    search_kwargs={\"k\": 3}  # Return the top 3 most relevant documents\n",
    ")\n",
    "prompt = hub.pull(\"rlm/rag-prompt\")\n",
    "\n",
    "print(prompt)"
   ]
  },
  {
   "cell_type": "code",
   "execution_count": null,
   "id": "5bd4e79f",
   "metadata": {},
   "outputs": [],
   "source": []
  },
  {
   "cell_type": "code",
   "execution_count": null,
   "id": "8a1e49ef",
   "metadata": {},
   "outputs": [],
   "source": [
    "def format_docs(docs):\n",
    "    print(docs)\n",
    "    return \"\\n\\n\".join(doc.page_content for doc in docs)\n",
    "\n",
    "rag_chain = (\n",
    "    {\"context\": retriever | format_docs, \"question\": RunnablePassthrough()}\n",
    "    | prompt\n",
    "    | llm\n",
    "    | StrOutputParser()\n",
    ")\n",
    "\n"
   ]
  },
  {
   "cell_type": "code",
   "execution_count": null,
   "id": "0860574f",
   "metadata": {},
   "outputs": [],
   "source": [
    "rag_chain.invoke(\"Is there a library in Biržai?\")"
   ]
  }
 ],
 "metadata": {
  "kernelspec": {
   "display_name": "Python 3",
   "language": "python",
   "name": "python3"
  },
  "language_info": {
   "codemirror_mode": {
    "name": "ipython",
    "version": 3
   },
   "file_extension": ".py",
   "mimetype": "text/x-python",
   "name": "python",
   "nbconvert_exporter": "python",
   "pygments_lexer": "ipython3",
   "version": "3.13.3"
  }
 },
 "nbformat": 4,
 "nbformat_minor": 5
}
